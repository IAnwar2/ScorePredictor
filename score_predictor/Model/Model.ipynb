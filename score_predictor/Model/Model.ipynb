{
 "cells": [
  {
   "cell_type": "code",
   "execution_count": 24,
   "metadata": {},
   "outputs": [],
   "source": [
    "import pandas as pd\n",
    "import numpy as np\n",
    "import os\n",
    "from datetime import datetime\n",
    "from sklearn.ensemble import GradientBoostingRegressor\n",
    "from sklearn.metrics import mean_squared_error\n",
    "from sklearn.model_selection import train_test_split\n",
    "from sklearn.preprocessing import LabelEncoder\n",
    "from sklearn.model_selection import GridSearchCV"
   ]
  },
  {
   "cell_type": "code",
   "execution_count": 25,
   "metadata": {},
   "outputs": [
    {
     "name": "stderr",
     "output_type": "stream",
     "text": [
      "C:\\Users\\mianw\\AppData\\Local\\Temp\\ipykernel_21792\\1316158437.py:29: DtypeWarning: Columns (7) have mixed types. Specify dtype option on import or set low_memory=False.\n",
      "  temp_df = pd.read_csv(data_path)\n"
     ]
    },
    {
     "name": "stdout",
     "output_type": "stream",
     "text": [
      "<bound method NDFrame.head of                           home            visitor hgoal vgoal hcountry  \\\n",
      "0                  Sporting CP  Partizan Belgrade     3     3      POR   \n",
      "1       Budapesti Voros Lobogo     RSC Anderlecht     6     3      HUN   \n",
      "2              Servette Geneve        Real Madrid     0     2      SUI   \n",
      "3              Rot-Weiss Essen       Hibernian FC     0     4      GER   \n",
      "4               Djurgardens IF   Gwardia Warszawa     0     0      SWE   \n",
      "...                        ...                ...   ...   ...      ...   \n",
      "453030        Yeni Malatyaspor         Fenerbahce     0     5      TUR   \n",
      "453031              Buyuksehyr        Trabzonspor     3     1      TUR   \n",
      "453032           Karagumruk SK         Alanyaspor     0     1      TUR   \n",
      "453033           Ad. Demirspor             Goztep     7     0      TUR   \n",
      "453034               Hatayspor        Giresunspor     4     1      TUR   \n",
      "\n",
      "       vcountry        Date competition  \n",
      "0           SRB  1955-09-04         cup  \n",
      "1           BEL  1955-09-07         cup  \n",
      "2           ESP  1955-09-08         cup  \n",
      "3           SCO  1955-09-14         cup  \n",
      "4           POL  1955-09-20         cup  \n",
      "...         ...         ...         ...  \n",
      "453030      TUR  2022-05-21      league  \n",
      "453031      TUR  2022-05-22      league  \n",
      "453032      TUR  2022-05-22      league  \n",
      "453033      TUR  2022-05-22      league  \n",
      "453034      TUR  2022-05-22      league  \n",
      "\n",
      "[452693 rows x 8 columns]>\n"
     ]
    }
   ],
   "source": [
    "data_paths = [\n",
    "    {'csv':'champs.csv', 'competition': 'cup', 'country':''},\n",
    "    {'csv':'dfbpokal.csv', 'competition': 'cup', 'country':'GER'},\n",
    "    {'csv':'englandplayoffs.csv', 'competition': 'cup', 'country':'ENG'},\n",
    "    {'csv':'facup.csv', 'competition': 'cup', 'country':'ENG'},\n",
    "    {'csv':'leaguecup.csv', 'competition': 'cup', 'country':'ENG'},\n",
    "    {'csv':'belgium.csv', 'competition': 'league', 'country':'BEL'},\n",
    "    {'csv':'england.csv', 'competition': 'league', 'country':'ENG'},\n",
    "    {'csv':'france.csv', 'competition': 'league', 'country':'FRA'},\n",
    "    {'csv':'germany.csv', 'competition': 'league', 'country':'GER'},\n",
    "    {'csv':'germany2.csv', 'competition': 'league', 'country':'GER'},\n",
    "    {'csv':'greece.csv', 'competition': 'league', 'country':'GRE'},\n",
    "    {'csv':'holland.csv', 'competition': 'league', 'country':'NED'},\n",
    "    {'csv':'italy.csv', 'competition': 'league', 'country':'ITA'},\n",
    "    {'csv':'mls.csv', 'competition': 'league', 'country':'USA'},\n",
    "    {'csv':'portugal.csv', 'competition': 'league', 'country':'POR'},\n",
    "    {'csv':'safrica.csv', 'competition': 'league', 'country':'SAF'},\n",
    "    {'csv':'scotland.csv', 'competition': 'league', 'country':'SCO'},\n",
    "    {'csv':'spain.csv', 'competition': 'league', 'country':'ESP'},\n",
    "    {'csv':'turkey.csv', 'competition': 'league', 'country':'TUR'} \n",
    "]\n",
    "\n",
    "desiredColumns = ['home', 'visitor', 'hgoal', 'vgoal', 'hcountry', 'vcountry', 'Date', 'competition']\n",
    "\n",
    "combined_df = pd.DataFrame(columns=desiredColumns)\n",
    "\n",
    "for x in data_paths:\n",
    "    data_path = os.path.join('Data', 'engsoccerdata-master', 'engsoccerdata-master', 'data-raw', x['csv'])\n",
    "    temp_df = pd.read_csv(data_path)\n",
    "    temp_df['competition'] = x['competition']\n",
    "    if x['country'] != '':\n",
    "        temp_df['hcountry'] = x['country']\n",
    "        temp_df['vcountry'] = x['country']\n",
    "    \n",
    "    # temp_df = temp_df[desiredColumns]\n",
    "    \n",
    "    combined_df = pd.concat([combined_df, temp_df[desiredColumns]], ignore_index=True)\n",
    "\n",
    "combined_df.replace(\"NA\", np.nan, inplace=True)\n",
    "combined_df = combined_df.dropna()\n",
    "    \n",
    "print(combined_df.head)"
   ]
  },
  {
   "cell_type": "code",
   "execution_count": 26,
   "metadata": {},
   "outputs": [],
   "source": [
    "def is_valid_date(date_str, date_format=\"%Y-%m-%d\"):\n",
    "    try:\n",
    "        datetime.strptime(date_str, date_format)\n",
    "        return True\n",
    "    except ValueError:\n",
    "        return False"
   ]
  },
  {
   "cell_type": "code",
   "execution_count": 27,
   "metadata": {},
   "outputs": [
    {
     "name": "stdout",
     "output_type": "stream",
     "text": [
      "<bound method NDFrame.head of                           home            visitor hgoal vgoal hcountry  \\\n",
      "0                  Sporting CP  Partizan Belgrade     3     3      POR   \n",
      "1       Budapesti Voros Lobogo     RSC Anderlecht     6     3      HUN   \n",
      "2              Servette Geneve        Real Madrid     0     2      SUI   \n",
      "3              Rot-Weiss Essen       Hibernian FC     0     4      GER   \n",
      "4               Djurgardens IF   Gwardia Warszawa     0     0      SWE   \n",
      "...                        ...                ...   ...   ...      ...   \n",
      "453030        Yeni Malatyaspor         Fenerbahce     0     5      TUR   \n",
      "453031              Buyuksehyr        Trabzonspor     3     1      TUR   \n",
      "453032           Karagumruk SK         Alanyaspor     0     1      TUR   \n",
      "453033           Ad. Demirspor             Goztep     7     0      TUR   \n",
      "453034               Hatayspor        Giresunspor     4     1      TUR   \n",
      "\n",
      "       vcountry competition  year  month  day  \n",
      "0           SRB         cup  1955      9    4  \n",
      "1           BEL         cup  1955      9    7  \n",
      "2           ESP         cup  1955      9    8  \n",
      "3           SCO         cup  1955      9   14  \n",
      "4           POL         cup  1955      9   20  \n",
      "...         ...         ...   ...    ...  ...  \n",
      "453030      TUR      league  2022      5   21  \n",
      "453031      TUR      league  2022      5   22  \n",
      "453032      TUR      league  2022      5   22  \n",
      "453033      TUR      league  2022      5   22  \n",
      "453034      TUR      league  2022      5   22  \n",
      "\n",
      "[452425 rows x 10 columns]>\n"
     ]
    }
   ],
   "source": [
    "combined_df['Date'] = combined_df['Date'].astype(str)\n",
    "\n",
    "# Filter out invalid dates\n",
    "combined_df['Valid_Date'] = combined_df['Date'].apply(is_valid_date)\n",
    "invalid_dates = combined_df[~combined_df['Valid_Date']]\n",
    "combined_df = combined_df[combined_df['Valid_Date']].drop(columns=['Valid_Date'])\n",
    "\n",
    "# Split up the dates to use as separate columns\n",
    "combined_df['Date'] = pd.to_datetime(combined_df['Date'])\n",
    "\n",
    "combined_df['year'] = combined_df['Date'].dt.year\n",
    "combined_df['month'] = combined_df['Date'].dt.month\n",
    "combined_df['day'] = combined_df['Date'].dt.day\n",
    "\n",
    "combined_df = combined_df.drop(columns=['Date'])\n",
    "\n",
    "print(combined_df.head)"
   ]
  },
  {
   "cell_type": "code",
   "execution_count": 28,
   "metadata": {},
   "outputs": [],
   "source": [
    "encode = ['home', 'visitor',  'hcountry', 'vcountry', 'competition']\n",
    "\n",
    "label_encoders = {}\n",
    "\n",
    "for feature in encode:\n",
    "    label_encoder = LabelEncoder()\n",
    "    combined_df[feature] = label_encoder.fit_transform(combined_df[feature])\n",
    "    label_encoders[feature] = label_encoder "
   ]
  },
  {
   "cell_type": "code",
   "execution_count": 29,
   "metadata": {},
   "outputs": [],
   "source": [
    "y_hgoal = combined_df['hgoal']\n",
    "y_vgoal = combined_df['vgoal']\n",
    "X_hgoal = combined_df.drop(columns=['hgoal'])\n",
    "X2_vgoal = combined_df.drop(columns=['vgoal'])\n",
    "\n",
    "X_train_hgoal, X_test_hgoal, y_train_hgoal, y_test_hgoal = train_test_split(X_hgoal, y_hgoal, test_size=0.2, random_state=42)\n",
    "X_train_vgoal, X_test_vgoal, y_train_vgoal, y_test_vgoal = train_test_split(X2_vgoal, y_vgoal, test_size=0.2, random_state=42)"
   ]
  },
  {
   "cell_type": "code",
   "execution_count": 30,
   "metadata": {},
   "outputs": [],
   "source": [
    "gb_regressor_hgoal = GradientBoostingRegressor(n_estimators=100, learning_rate=0.1, max_depth=3, random_state=42)\n",
    "gb_regressor_vgoal = GradientBoostingRegressor(n_estimators=100, learning_rate=0.1, max_depth=3, random_state=42)"
   ]
  },
  {
   "cell_type": "code",
   "execution_count": 31,
   "metadata": {},
   "outputs": [],
   "source": [
    "# Hyperparameter tuning - Takes 4 hours and 8 mins\n",
    "\n",
    "param_grid = {\n",
    "    'n_estimators': [50, 100, 200],\n",
    "    'learning_rate': [0.01, 0.1, 0.2],\n",
    "    'max_depth': [3, 5, 7]\n",
    "}\n",
    "\n",
    "grid_search_hgoal = GridSearchCV(gb_regressor_hgoal, param_grid=param_grid, cv=5)\n",
    "grid_search_hgoal.fit(X_train_hgoal, y_train_hgoal)\n",
    "best_params_hgoal = grid_search_hgoal.best_params_\n",
    "\n",
    "grid_search_vgoal = GridSearchCV(gb_regressor_vgoal, param_grid=param_grid, cv=5)\n",
    "grid_search_vgoal.fit(X_train_vgoal, y_train_vgoal)\n",
    "best_params_vgoal = grid_search_vgoal.best_params_\n",
    "\n"
   ]
  },
  {
   "cell_type": "code",
   "execution_count": 32,
   "metadata": {},
   "outputs": [
    {
     "data": {
      "text/html": [
       "<style>#sk-container-id-4 {color: black;background-color: white;}#sk-container-id-4 pre{padding: 0;}#sk-container-id-4 div.sk-toggleable {background-color: white;}#sk-container-id-4 label.sk-toggleable__label {cursor: pointer;display: block;width: 100%;margin-bottom: 0;padding: 0.3em;box-sizing: border-box;text-align: center;}#sk-container-id-4 label.sk-toggleable__label-arrow:before {content: \"▸\";float: left;margin-right: 0.25em;color: #696969;}#sk-container-id-4 label.sk-toggleable__label-arrow:hover:before {color: black;}#sk-container-id-4 div.sk-estimator:hover label.sk-toggleable__label-arrow:before {color: black;}#sk-container-id-4 div.sk-toggleable__content {max-height: 0;max-width: 0;overflow: hidden;text-align: left;background-color: #f0f8ff;}#sk-container-id-4 div.sk-toggleable__content pre {margin: 0.2em;color: black;border-radius: 0.25em;background-color: #f0f8ff;}#sk-container-id-4 input.sk-toggleable__control:checked~div.sk-toggleable__content {max-height: 200px;max-width: 100%;overflow: auto;}#sk-container-id-4 input.sk-toggleable__control:checked~label.sk-toggleable__label-arrow:before {content: \"▾\";}#sk-container-id-4 div.sk-estimator input.sk-toggleable__control:checked~label.sk-toggleable__label {background-color: #d4ebff;}#sk-container-id-4 div.sk-label input.sk-toggleable__control:checked~label.sk-toggleable__label {background-color: #d4ebff;}#sk-container-id-4 input.sk-hidden--visually {border: 0;clip: rect(1px 1px 1px 1px);clip: rect(1px, 1px, 1px, 1px);height: 1px;margin: -1px;overflow: hidden;padding: 0;position: absolute;width: 1px;}#sk-container-id-4 div.sk-estimator {font-family: monospace;background-color: #f0f8ff;border: 1px dotted black;border-radius: 0.25em;box-sizing: border-box;margin-bottom: 0.5em;}#sk-container-id-4 div.sk-estimator:hover {background-color: #d4ebff;}#sk-container-id-4 div.sk-parallel-item::after {content: \"\";width: 100%;border-bottom: 1px solid gray;flex-grow: 1;}#sk-container-id-4 div.sk-label:hover label.sk-toggleable__label {background-color: #d4ebff;}#sk-container-id-4 div.sk-serial::before {content: \"\";position: absolute;border-left: 1px solid gray;box-sizing: border-box;top: 0;bottom: 0;left: 50%;z-index: 0;}#sk-container-id-4 div.sk-serial {display: flex;flex-direction: column;align-items: center;background-color: white;padding-right: 0.2em;padding-left: 0.2em;position: relative;}#sk-container-id-4 div.sk-item {position: relative;z-index: 1;}#sk-container-id-4 div.sk-parallel {display: flex;align-items: stretch;justify-content: center;background-color: white;position: relative;}#sk-container-id-4 div.sk-item::before, #sk-container-id-4 div.sk-parallel-item::before {content: \"\";position: absolute;border-left: 1px solid gray;box-sizing: border-box;top: 0;bottom: 0;left: 50%;z-index: -1;}#sk-container-id-4 div.sk-parallel-item {display: flex;flex-direction: column;z-index: 1;position: relative;background-color: white;}#sk-container-id-4 div.sk-parallel-item:first-child::after {align-self: flex-end;width: 50%;}#sk-container-id-4 div.sk-parallel-item:last-child::after {align-self: flex-start;width: 50%;}#sk-container-id-4 div.sk-parallel-item:only-child::after {width: 0;}#sk-container-id-4 div.sk-dashed-wrapped {border: 1px dashed gray;margin: 0 0.4em 0.5em 0.4em;box-sizing: border-box;padding-bottom: 0.4em;background-color: white;}#sk-container-id-4 div.sk-label label {font-family: monospace;font-weight: bold;display: inline-block;line-height: 1.2em;}#sk-container-id-4 div.sk-label-container {text-align: center;}#sk-container-id-4 div.sk-container {/* jupyter's `normalize.less` sets `[hidden] { display: none; }` but bootstrap.min.css set `[hidden] { display: none !important; }` so we also need the `!important` here to be able to override the default hidden behavior on the sphinx rendered scikit-learn.org. See: https://github.com/scikit-learn/scikit-learn/issues/21755 */display: inline-block !important;position: relative;}#sk-container-id-4 div.sk-text-repr-fallback {display: none;}</style><div id=\"sk-container-id-4\" class=\"sk-top-container\"><div class=\"sk-text-repr-fallback\"><pre>GradientBoostingRegressor(max_depth=7, n_estimators=200, random_state=42)</pre><b>In a Jupyter environment, please rerun this cell to show the HTML representation or trust the notebook. <br />On GitHub, the HTML representation is unable to render, please try loading this page with nbviewer.org.</b></div><div class=\"sk-container\" hidden><div class=\"sk-item\"><div class=\"sk-estimator sk-toggleable\"><input class=\"sk-toggleable__control sk-hidden--visually\" id=\"sk-estimator-id-4\" type=\"checkbox\" checked><label for=\"sk-estimator-id-4\" class=\"sk-toggleable__label sk-toggleable__label-arrow\">GradientBoostingRegressor</label><div class=\"sk-toggleable__content\"><pre>GradientBoostingRegressor(max_depth=7, n_estimators=200, random_state=42)</pre></div></div></div></div></div>"
      ],
      "text/plain": [
       "GradientBoostingRegressor(max_depth=7, n_estimators=200, random_state=42)"
      ]
     },
     "execution_count": 32,
     "metadata": {},
     "output_type": "execute_result"
    }
   ],
   "source": [
    "tuned_gb_regressor_hgoal = GradientBoostingRegressor(**best_params_hgoal, random_state=42)\n",
    "tuned_gb_regressor_vgoal = GradientBoostingRegressor(**best_params_vgoal, random_state=42)\n",
    "\n",
    "# Train the models for 'hgoal' and 'vgoal' - 5 mins total\n",
    "tuned_gb_regressor_hgoal.fit(X_train_hgoal, y_train_hgoal)\n",
    "tuned_gb_regressor_vgoal.fit(X_train_vgoal, y_train_vgoal)"
   ]
  },
  {
   "cell_type": "code",
   "execution_count": 33,
   "metadata": {},
   "outputs": [
    {
     "name": "stdout",
     "output_type": "stream",
     "text": [
      "Mean Squared Error (Home Game): 1.858661559395164\n"
     ]
    }
   ],
   "source": [
    "# Make predictions\n",
    "y_pred_hgoal = tuned_gb_regressor_hgoal.predict(X_test_hgoal)\n",
    "\n",
    "# Calculate Mean Squared Error\n",
    "mse_hgoal = mean_squared_error(y_test_hgoal, y_pred_hgoal)\n",
    "print(\"Mean Squared Error (Home Game):\", mse_hgoal)"
   ]
  },
  {
   "cell_type": "code",
   "execution_count": 34,
   "metadata": {},
   "outputs": [
    {
     "name": "stdout",
     "output_type": "stream",
     "text": [
      "Mean Squared Error (Away Game): 1.2156300563999123\n"
     ]
    }
   ],
   "source": [
    "# Make predictions\n",
    "y_pred_vgoal = tuned_gb_regressor_vgoal.predict(X_test_vgoal)\n",
    "\n",
    "# Calculate Mean Squared Error\n",
    "mse_vgoal = mean_squared_error(y_test_vgoal, y_pred_vgoal)\n",
    "print(\"Mean Squared Error (Away Game):\", mse_vgoal)"
   ]
  },
  {
   "cell_type": "code",
   "execution_count": 41,
   "metadata": {},
   "outputs": [
    {
     "data": {
      "text/plain": [
       "['Trained/Hyperparameter_Tuned/HomeModel.pkl']"
      ]
     },
     "execution_count": 41,
     "metadata": {},
     "output_type": "execute_result"
    }
   ],
   "source": [
    "import joblib\n",
    "\n",
    "# Assume tuned_gb_regressor_vgoal is your trained GradientBoostingRegressor model\n",
    "joblib.dump(tuned_gb_regressor_vgoal, 'Trained/Hyperparameter_Tuned/AwayModel.pkl')\n",
    "joblib.dump(tuned_gb_regressor_hgoal, 'Trained/Hyperparameter_Tuned/HomeModel.pkl')"
   ]
  }
 ],
 "metadata": {
  "kernelspec": {
   "display_name": "Python 3",
   "language": "python",
   "name": "python3"
  },
  "language_info": {
   "codemirror_mode": {
    "name": "ipython",
    "version": 3
   },
   "file_extension": ".py",
   "mimetype": "text/x-python",
   "name": "python",
   "nbconvert_exporter": "python",
   "pygments_lexer": "ipython3",
   "version": "3.10.0"
  }
 },
 "nbformat": 4,
 "nbformat_minor": 2
}
