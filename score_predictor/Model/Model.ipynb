{
 "cells": [
  {
   "cell_type": "code",
   "execution_count": 77,
   "metadata": {},
   "outputs": [],
   "source": [
    "import pandas as pd\n",
    "import numpy as np\n",
    "import os\n",
    "from datetime import datetime"
   ]
  },
  {
   "cell_type": "code",
   "execution_count": 78,
   "metadata": {},
   "outputs": [
    {
     "name": "stderr",
     "output_type": "stream",
     "text": [
      "C:\\Users\\mianw\\AppData\\Local\\Temp\\ipykernel_3292\\1316158437.py:29: DtypeWarning: Columns (7) have mixed types. Specify dtype option on import or set low_memory=False.\n",
      "  temp_df = pd.read_csv(data_path)\n"
     ]
    },
    {
     "name": "stdout",
     "output_type": "stream",
     "text": [
      "<bound method NDFrame.head of                           home            visitor hgoal vgoal hcountry  \\\n",
      "0                  Sporting CP  Partizan Belgrade     3     3      POR   \n",
      "1       Budapesti Voros Lobogo     RSC Anderlecht     6     3      HUN   \n",
      "2              Servette Geneve        Real Madrid     0     2      SUI   \n",
      "3              Rot-Weiss Essen       Hibernian FC     0     4      GER   \n",
      "4               Djurgardens IF   Gwardia Warszawa     0     0      SWE   \n",
      "...                        ...                ...   ...   ...      ...   \n",
      "453030        Yeni Malatyaspor         Fenerbahce     0     5      TUR   \n",
      "453031              Buyuksehyr        Trabzonspor     3     1      TUR   \n",
      "453032           Karagumruk SK         Alanyaspor     0     1      TUR   \n",
      "453033           Ad. Demirspor             Goztep     7     0      TUR   \n",
      "453034               Hatayspor        Giresunspor     4     1      TUR   \n",
      "\n",
      "       vcountry        Date competition  \n",
      "0           SRB  1955-09-04         cup  \n",
      "1           BEL  1955-09-07         cup  \n",
      "2           ESP  1955-09-08         cup  \n",
      "3           SCO  1955-09-14         cup  \n",
      "4           POL  1955-09-20         cup  \n",
      "...         ...         ...         ...  \n",
      "453030      TUR  2022-05-21      league  \n",
      "453031      TUR  2022-05-22      league  \n",
      "453032      TUR  2022-05-22      league  \n",
      "453033      TUR  2022-05-22      league  \n",
      "453034      TUR  2022-05-22      league  \n",
      "\n",
      "[452693 rows x 8 columns]>\n"
     ]
    }
   ],
   "source": [
    "data_paths = [\n",
    "    {'csv':'champs.csv', 'competition': 'cup', 'country':''},\n",
    "    {'csv':'dfbpokal.csv', 'competition': 'cup', 'country':'GER'},\n",
    "    {'csv':'englandplayoffs.csv', 'competition': 'cup', 'country':'ENG'},\n",
    "    {'csv':'facup.csv', 'competition': 'cup', 'country':'ENG'},\n",
    "    {'csv':'leaguecup.csv', 'competition': 'cup', 'country':'ENG'},\n",
    "    {'csv':'belgium.csv', 'competition': 'league', 'country':'BEL'},\n",
    "    {'csv':'england.csv', 'competition': 'league', 'country':'ENG'},\n",
    "    {'csv':'france.csv', 'competition': 'league', 'country':'FRA'},\n",
    "    {'csv':'germany.csv', 'competition': 'league', 'country':'GER'},\n",
    "    {'csv':'germany2.csv', 'competition': 'league', 'country':'GER'},\n",
    "    {'csv':'greece.csv', 'competition': 'league', 'country':'GRE'},\n",
    "    {'csv':'holland.csv', 'competition': 'league', 'country':'NED'},\n",
    "    {'csv':'italy.csv', 'competition': 'league', 'country':'ITA'},\n",
    "    {'csv':'mls.csv', 'competition': 'league', 'country':'USA'},\n",
    "    {'csv':'portugal.csv', 'competition': 'league', 'country':'POR'},\n",
    "    {'csv':'safrica.csv', 'competition': 'league', 'country':'SAF'},\n",
    "    {'csv':'scotland.csv', 'competition': 'league', 'country':'SCO'},\n",
    "    {'csv':'spain.csv', 'competition': 'league', 'country':'ESP'},\n",
    "    {'csv':'turkey.csv', 'competition': 'league', 'country':'TUR'} \n",
    "]\n",
    "\n",
    "desiredColumns = ['home', 'visitor', 'hgoal', 'vgoal', 'hcountry', 'vcountry', 'Date', 'competition']\n",
    "\n",
    "combined_df = pd.DataFrame(columns=desiredColumns)\n",
    "\n",
    "for x in data_paths:\n",
    "    data_path = os.path.join('Data', 'engsoccerdata-master', 'engsoccerdata-master', 'data-raw', x['csv'])\n",
    "    temp_df = pd.read_csv(data_path)\n",
    "    temp_df['competition'] = x['competition']\n",
    "    if x['country'] != '':\n",
    "        temp_df['hcountry'] = x['country']\n",
    "        temp_df['vcountry'] = x['country']\n",
    "    \n",
    "    # temp_df = temp_df[desiredColumns]\n",
    "    \n",
    "    combined_df = pd.concat([combined_df, temp_df[desiredColumns]], ignore_index=True)\n",
    "\n",
    "combined_df.replace(\"NA\", np.nan, inplace=True)\n",
    "combined_df = combined_df.dropna()\n",
    "    \n",
    "print(combined_df.head)"
   ]
  },
  {
   "cell_type": "code",
   "execution_count": 79,
   "metadata": {},
   "outputs": [],
   "source": [
    "def is_valid_date(date_str, date_format=\"%Y-%m-%d\"):\n",
    "    try:\n",
    "        datetime.strptime(date_str, date_format)\n",
    "        return True\n",
    "    except ValueError:\n",
    "        return False"
   ]
  },
  {
   "cell_type": "code",
   "execution_count": 80,
   "metadata": {},
   "outputs": [
    {
     "name": "stdout",
     "output_type": "stream",
     "text": [
      "<bound method NDFrame.head of                           home            visitor hgoal vgoal hcountry  \\\n",
      "0                  Sporting CP  Partizan Belgrade     3     3      POR   \n",
      "1       Budapesti Voros Lobogo     RSC Anderlecht     6     3      HUN   \n",
      "2              Servette Geneve        Real Madrid     0     2      SUI   \n",
      "3              Rot-Weiss Essen       Hibernian FC     0     4      GER   \n",
      "4               Djurgardens IF   Gwardia Warszawa     0     0      SWE   \n",
      "...                        ...                ...   ...   ...      ...   \n",
      "453030        Yeni Malatyaspor         Fenerbahce     0     5      TUR   \n",
      "453031              Buyuksehyr        Trabzonspor     3     1      TUR   \n",
      "453032           Karagumruk SK         Alanyaspor     0     1      TUR   \n",
      "453033           Ad. Demirspor             Goztep     7     0      TUR   \n",
      "453034               Hatayspor        Giresunspor     4     1      TUR   \n",
      "\n",
      "       vcountry competition  year  month  day  \n",
      "0           SRB         cup  1955      9    4  \n",
      "1           BEL         cup  1955      9    7  \n",
      "2           ESP         cup  1955      9    8  \n",
      "3           SCO         cup  1955      9   14  \n",
      "4           POL         cup  1955      9   20  \n",
      "...         ...         ...   ...    ...  ...  \n",
      "453030      TUR      league  2022      5   21  \n",
      "453031      TUR      league  2022      5   22  \n",
      "453032      TUR      league  2022      5   22  \n",
      "453033      TUR      league  2022      5   22  \n",
      "453034      TUR      league  2022      5   22  \n",
      "\n",
      "[452425 rows x 10 columns]>\n"
     ]
    }
   ],
   "source": [
    "combined_df['Date'] = combined_df['Date'].astype(str)\n",
    "\n",
    "# Filter out invalid dates\n",
    "combined_df['Valid_Date'] = combined_df['Date'].apply(is_valid_date)\n",
    "invalid_dates = combined_df[~combined_df['Valid_Date']]\n",
    "combined_df = combined_df[combined_df['Valid_Date']].drop(columns=['Valid_Date'])\n",
    "\n",
    "# Split up the dates to use as separate columns\n",
    "combined_df['Date'] = pd.to_datetime(combined_df['Date'])\n",
    "\n",
    "combined_df['year'] = combined_df['Date'].dt.year\n",
    "combined_df['month'] = combined_df['Date'].dt.month\n",
    "combined_df['day'] = combined_df['Date'].dt.day\n",
    "\n",
    "combined_df = combined_df.drop(columns=['Date'])\n",
    "\n",
    "print(combined_df.head)"
   ]
  },
  {
   "cell_type": "code",
   "execution_count": 81,
   "metadata": {},
   "outputs": [],
   "source": [
    "combined_df.to_csv('output.csv', index=False)"
   ]
  }
 ],
 "metadata": {
  "kernelspec": {
   "display_name": "Python 3",
   "language": "python",
   "name": "python3"
  },
  "language_info": {
   "codemirror_mode": {
    "name": "ipython",
    "version": 3
   },
   "file_extension": ".py",
   "mimetype": "text/x-python",
   "name": "python",
   "nbconvert_exporter": "python",
   "pygments_lexer": "ipython3",
   "version": "3.10.0"
  }
 },
 "nbformat": 4,
 "nbformat_minor": 2
}
